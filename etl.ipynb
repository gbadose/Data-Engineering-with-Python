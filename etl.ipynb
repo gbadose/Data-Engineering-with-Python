{
 "metadata": {
  "language_info": {
   "codemirror_mode": {
    "name": "ipython",
    "version": 3
   },
   "file_extension": ".py",
   "mimetype": "text/x-python",
   "name": "python",
   "nbconvert_exporter": "python",
   "pygments_lexer": "ipython3",
   "version": "3.8.3-final"
  },
  "orig_nbformat": 2,
  "kernelspec": {
   "name": "python3",
   "display_name": "Python 3",
   "language": "python"
  }
 },
 "nbformat": 4,
 "nbformat_minor": 2,
 "cells": [
  {
   "cell_type": "code",
   "execution_count": 1,
   "metadata": {},
   "outputs": [],
   "source": [
    "import configparser\n",
    "from datetime import datetime\n",
    "import os\n",
    "from pyspark.sql import SparkSession\n",
    "from pyspark.sql.functions import udf, col\n",
    "from pyspark.sql.functions import year, month, dayofmonth, hour, weekofyear, date_format\n",
    "\n"
   ]
  },
  {
   "cell_type": "code",
   "execution_count": 2,
   "metadata": {},
   "outputs": [],
   "source": [
    "def create_spark_session():\n",
    "    spark = SparkSession \\\n",
    "        .builder \\\n",
    "        .config(\"spark.jars.packages\", \"org.apache.hadoop:hadoop-aws:2.7.0\") \\\n",
    "        .getOrCreate()\n",
    "    return spark"
   ]
  },
  {
   "cell_type": "code",
   "execution_count": 4,
   "metadata": {},
   "outputs": [],
   "source": [
    "def process_song_data(spark, input_data, output_data):\n",
    "    # get filepath to song data file\n",
    "    song_data = \"C:/Udacity/DataEngineer/DataLakewithSpark/Project/data/song-data/song_data/A/A/A/TRAAAAW128F429D538.json\"\n",
    "    \n",
    "    # read song data file\n",
    "    df_songs_data = spark.read.json(song_data)\n",
    "    df_songs_data.persist()\n",
    "\n",
    "    # extract columns to create songs table\n",
    "    songs_table = df_songs_data.select(['song_id', 'title', 'artist_id', 'year', 'duration']).collect()\n",
    "    df_songs_data.createOrReplaceTempView(\"songs_table\")\n",
    "\n",
    "    # write  songs table to parquet files partitioned by year and artist\n",
    "    songs_table.write.partitionBy(\"year\",\"artist_id\").mode('overwrite').parquet(os.path.join(output_data, 'songs'))\n",
    "\n",
    "    # extract columns to create artists table\n",
    "    artists_table = df_songs_data.select(['artist_id', 'name', 'location', 'lattitude', 'longitude']).collect() \n",
    "    \n",
    "    # write artists table to parquet files\n",
    "    artists_table.write.mode('overwrite').parquet(os.path.join(output_data, 'artists'))"
   ]
  },
  {
   "cell_type": "code",
   "execution_count": null,
   "metadata": {},
   "outputs": [],
   "source": []
  }
 ]
}